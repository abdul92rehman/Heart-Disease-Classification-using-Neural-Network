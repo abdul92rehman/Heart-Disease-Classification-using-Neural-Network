{
  "nbformat": 4,
  "nbformat_minor": 0,
  "metadata": {
    "colab": {
      "name": "Heart Disease Classification using Neural Network.ipynb",
      "provenance": []
    },
    "kernelspec": {
      "name": "python3",
      "display_name": "Python 3"
    }
  },
  "cells": [
    {
      "cell_type": "code",
      "metadata": {
        "id": "p5rqoV6e7iBX",
        "colab": {
          "base_uri": "https://localhost:8080/",
          "height": 34
        },
        "outputId": "0e82ce9f-a7ce-4ba3-f968-4c567d101d55"
      },
      "source": [
        "# Import libraries\n",
        "import pandas as pd\n",
        "import numpy as np\n",
        "import tensorflow as tf\n",
        "from sklearn.model_selection import train_test_split\n",
        "from sklearn import metrics\n",
        "from tensorflow import keras\n",
        "from keras.models import Sequential\n",
        "from keras.layers import Dense\n",
        "from keras.callbacks import EarlyStopping\n",
        "from keras.utils import to_categorical"
      ],
      "execution_count": null,
      "outputs": [
        {
          "output_type": "stream",
          "text": [
            "Using TensorFlow backend.\n"
          ],
          "name": "stderr"
        }
      ]
    },
    {
      "cell_type": "code",
      "metadata": {
        "id": "YYIyQJIuClaj"
      },
      "source": [
        "data = pd.read_csv('heart.csv')"
      ],
      "execution_count": null,
      "outputs": []
    },
    {
      "cell_type": "code",
      "metadata": {
        "id": "oKmcrPVYQU61",
        "colab": {
          "base_uri": "https://localhost:8080/",
          "height": 272
        },
        "outputId": "9a9e21e9-bf50-45f2-945e-7a0e30e4cdf3"
      },
      "source": [
        "#outliers analysis usimg IQR (#identifying the outliers through IQR)\n",
        "Q1 = data.quantile(0.25)\n",
        "Q3 = data.quantile(0.75)\n",
        "IQR = Q3 - Q1\n",
        "print(IQR)"
      ],
      "execution_count": null,
      "outputs": [
        {
          "output_type": "stream",
          "text": [
            "age         13.5\n",
            "sex          1.0\n",
            "cp           2.0\n",
            "trestbps    20.0\n",
            "chol        63.5\n",
            "fbs          0.0\n",
            "restecg      1.0\n",
            "thalach     32.5\n",
            "exang        1.0\n",
            "oldpeak      1.6\n",
            "slope        1.0\n",
            "ca           1.0\n",
            "thal         1.0\n",
            "target       1.0\n",
            "dtype: float64\n"
          ],
          "name": "stdout"
        }
      ]
    },
    {
      "cell_type": "code",
      "metadata": {
        "id": "GXeLt0VtQgIA",
        "colab": {
          "base_uri": "https://localhost:8080/",
          "height": 255
        },
        "outputId": "44e73de2-2349-4c3a-c16c-0b2706b72a30"
      },
      "source": [
        "#identification of outliers\n",
        "print((data < (Q1 - 1.5 * IQR)) | (data > (Q3 + 1.5 * IQR)))"
      ],
      "execution_count": null,
      "outputs": [
        {
          "output_type": "stream",
          "text": [
            "       age    sex     cp  trestbps   chol  ...  oldpeak  slope     ca   thal  target\n",
            "0    False  False  False     False  False  ...    False  False  False  False   False\n",
            "1    False  False  False     False  False  ...    False  False  False  False   False\n",
            "2    False  False  False     False  False  ...    False  False  False  False   False\n",
            "3    False  False  False     False  False  ...    False  False  False  False   False\n",
            "4    False  False  False     False  False  ...    False  False  False  False   False\n",
            "..     ...    ...    ...       ...    ...  ...      ...    ...    ...    ...     ...\n",
            "298  False  False  False     False  False  ...    False  False  False  False   False\n",
            "299  False  False  False     False  False  ...    False  False  False  False   False\n",
            "300  False  False  False     False  False  ...    False  False  False  False   False\n",
            "301  False  False  False     False  False  ...    False  False  False  False   False\n",
            "302  False  False  False     False  False  ...    False  False  False  False   False\n",
            "\n",
            "[303 rows x 14 columns]\n"
          ],
          "name": "stdout"
        }
      ]
    },
    {
      "cell_type": "code",
      "metadata": {
        "id": "rrdGlYsJQllI",
        "colab": {
          "base_uri": "https://localhost:8080/",
          "height": 34
        },
        "outputId": "3123cf60-2516-4e5e-a4b9-831a826f5999"
      },
      "source": [
        "#removing outliers\n",
        "df_out = data[~((data < (Q1 - 1.5 * IQR)) |(data > (Q3 + 1.5 * IQR))).any(axis=1)]\n",
        "print(df_out.shape)"
      ],
      "execution_count": null,
      "outputs": [
        {
          "output_type": "stream",
          "text": [
            "(228, 14)\n"
          ],
          "name": "stdout"
        }
      ]
    },
    {
      "cell_type": "code",
      "metadata": {
        "id": "-ZGMLfw-Q4Bb"
      },
      "source": [
        "#split dataset in features and target variable\n",
        "feature_cols = ['age', 'sex', 'cp', 'trestbps', 'chol', 'fbs', 'restecg', 'thalach', 'exang',\n",
        "                'oldpeak', 'slope', 'ca', 'thal']\n",
        "X = df_out[feature_cols] # Features\n",
        "y = df_out.target # Target variable\n",
        "X_train, X_test, y_train, y_test = train_test_split(X, y, test_size=0.2, random_state=1) "
      ],
      "execution_count": null,
      "outputs": []
    },
    {
      "cell_type": "code",
      "metadata": {
        "id": "iiA9f8WtJPqG"
      },
      "source": [
        "# !pip install tensorflow==2.0"
      ],
      "execution_count": null,
      "outputs": []
    },
    {
      "cell_type": "code",
      "metadata": {
        "id": "wTcMREFfMuy_"
      },
      "source": [
        "#create model\n",
        "model = Sequential() # means ,didn't skip any node or layer"
      ],
      "execution_count": null,
      "outputs": []
    },
    {
      "cell_type": "code",
      "metadata": {
        "id": "R_lpqK6sNwKF",
        "colab": {
          "base_uri": "https://localhost:8080/",
          "height": 34
        },
        "outputId": "a777e991-62b1-4a9e-8180-9a22753df921"
      },
      "source": [
        "X_train.shape"
      ],
      "execution_count": null,
      "outputs": [
        {
          "output_type": "execute_result",
          "data": {
            "text/plain": [
              "(182, 13)"
            ]
          },
          "metadata": {
            "tags": []
          },
          "execution_count": 9
        }
      ]
    },
    {
      "cell_type": "code",
      "metadata": {
        "id": "aR4ikoqRM26b",
        "colab": {
          "base_uri": "https://localhost:8080/",
          "height": 34
        },
        "outputId": "e320675b-1884-4d55-80f5-6a4e0cb3ab37"
      },
      "source": [
        "#get number of columns in training data\n",
        "n_cols = X_train.shape[1]\n",
        "n_cols"
      ],
      "execution_count": null,
      "outputs": [
        {
          "output_type": "execute_result",
          "data": {
            "text/plain": [
              "13"
            ]
          },
          "metadata": {
            "tags": []
          },
          "execution_count": 10
        }
      ]
    },
    {
      "cell_type": "code",
      "metadata": {
        "id": "O3bY5Jp7M5mT"
      },
      "source": [
        "#add layers to model\n",
        "model.add(Dense(13, activation='relu', input_dim=n_cols))\n",
        "model.add(Dense(8, activation='relu'))\n",
        "model.add(Dense(8, activation='relu'))\n",
        "model.add(Dense(1, activation='sigmoid'))"
      ],
      "execution_count": null,
      "outputs": []
    },
    {
      "cell_type": "code",
      "metadata": {
        "id": "n4sRzDOJTt45"
      },
      "source": [
        "#compile model using accuracy to measure model performance\n",
        "model.compile(optimizer='adam', loss='binary_crossentropy', metrics=['accuracy'])"
      ],
      "execution_count": null,
      "outputs": []
    },
    {
      "cell_type": "code",
      "metadata": {
        "id": "6R7ED18XUGiX",
        "colab": {
          "base_uri": "https://localhost:8080/",
          "height": 1000
        },
        "outputId": "1ad0821b-9acd-4b51-d4f2-3ff523effd8e"
      },
      "source": [
        "#set early stopping monitor so the model stops training when it won't improve anymore\n",
        "early_stopping_monitor = EarlyStopping(patience=3)\n",
        "#train model\n",
        "# history = model.fit(X_train, y_train, epochs=150)\n",
        "history = model.fit(X_train, y_train, epochs=150, callbacks=[early_stopping_monitor])\n",
        "history"
      ],
      "execution_count": null,
      "outputs": [
        {
          "output_type": "stream",
          "text": [
            "Epoch 1/150\n",
            "182/182 [==============================] - 0s 778us/step - loss: 5.6903 - accuracy: 0.5714\n",
            "Epoch 2/150\n",
            "182/182 [==============================] - 0s 73us/step - loss: 2.2790 - accuracy: 0.5934\n",
            "Epoch 3/150\n",
            "182/182 [==============================] - 0s 64us/step - loss: 0.9244 - accuracy: 0.6099\n",
            "Epoch 4/150\n",
            "182/182 [==============================] - 0s 58us/step - loss: 1.2937 - accuracy: 0.5165\n",
            "Epoch 5/150\n",
            "182/182 [==============================] - 0s 55us/step - loss: 0.8128 - accuracy: 0.6099\n",
            "Epoch 6/150\n",
            "182/182 [==============================] - 0s 53us/step - loss: 0.8572 - accuracy: 0.6484\n",
            "Epoch 7/150\n",
            "182/182 [==============================] - 0s 67us/step - loss: 0.7621 - accuracy: 0.6429\n",
            "Epoch 8/150\n",
            "182/182 [==============================] - 0s 73us/step - loss: 0.7303 - accuracy: 0.6538\n",
            "Epoch 9/150\n",
            "182/182 [==============================] - 0s 79us/step - loss: 0.7117 - accuracy: 0.6264\n",
            "Epoch 10/150\n",
            "182/182 [==============================] - 0s 74us/step - loss: 0.6924 - accuracy: 0.6264\n",
            "Epoch 11/150\n",
            "182/182 [==============================] - 0s 62us/step - loss: 0.6736 - accuracy: 0.6538\n",
            "Epoch 12/150\n",
            "182/182 [==============================] - 0s 63us/step - loss: 0.6592 - accuracy: 0.6484\n",
            "Epoch 13/150\n",
            "182/182 [==============================] - 0s 58us/step - loss: 0.6569 - accuracy: 0.6813\n",
            "Epoch 14/150\n",
            "182/182 [==============================] - 0s 70us/step - loss: 0.6511 - accuracy: 0.6813\n",
            "Epoch 15/150\n",
            "182/182 [==============================] - 0s 62us/step - loss: 0.6454 - accuracy: 0.6538\n",
            "Epoch 16/150\n",
            " 32/182 [====>.........................] - ETA: 0s - loss: 0.6032 - accuracy: 0.7188"
          ],
          "name": "stdout"
        },
        {
          "output_type": "stream",
          "text": [
            "/usr/local/lib/python3.6/dist-packages/keras/callbacks/callbacks.py:846: RuntimeWarning: Early stopping conditioned on metric `val_loss` which is not available. Available metrics are: loss,accuracy\n",
            "  (self.monitor, ','.join(list(logs.keys()))), RuntimeWarning\n"
          ],
          "name": "stderr"
        },
        {
          "output_type": "stream",
          "text": [
            "\b\b\b\b\b\b\b\b\b\b\b\b\b\b\b\b\b\b\b\b\b\b\b\b\b\b\b\b\b\b\b\b\b\b\b\b\b\b\b\b\b\b\b\b\b\b\b\b\b\b\b\b\b\b\b\b\b\b\b\b\b\b\b\b\b\b\b\b\b\b\b\b\b\b\b\b\b\b\b\b\b\b\b\b\r182/182 [==============================] - 0s 73us/step - loss: 0.6424 - accuracy: 0.6703\n",
            "Epoch 17/150\n",
            "182/182 [==============================] - 0s 99us/step - loss: 0.6327 - accuracy: 0.6978\n",
            "Epoch 18/150\n",
            "182/182 [==============================] - 0s 66us/step - loss: 0.6297 - accuracy: 0.6923\n",
            "Epoch 19/150\n",
            "182/182 [==============================] - 0s 69us/step - loss: 0.6292 - accuracy: 0.6813\n",
            "Epoch 20/150\n",
            "182/182 [==============================] - 0s 68us/step - loss: 0.6246 - accuracy: 0.6923\n",
            "Epoch 21/150\n",
            "182/182 [==============================] - 0s 62us/step - loss: 0.6227 - accuracy: 0.6978\n",
            "Epoch 22/150\n",
            "182/182 [==============================] - 0s 69us/step - loss: 0.6271 - accuracy: 0.6868\n",
            "Epoch 23/150\n",
            "182/182 [==============================] - 0s 88us/step - loss: 0.6249 - accuracy: 0.6923\n",
            "Epoch 24/150\n",
            "182/182 [==============================] - 0s 64us/step - loss: 0.6157 - accuracy: 0.6923\n",
            "Epoch 25/150\n",
            "182/182 [==============================] - 0s 71us/step - loss: 0.6118 - accuracy: 0.6978\n",
            "Epoch 26/150\n",
            "182/182 [==============================] - 0s 64us/step - loss: 0.6094 - accuracy: 0.7088\n",
            "Epoch 27/150\n",
            "182/182 [==============================] - 0s 89us/step - loss: 0.6095 - accuracy: 0.7198\n",
            "Epoch 28/150\n",
            "182/182 [==============================] - 0s 89us/step - loss: 0.6237 - accuracy: 0.6703\n",
            "Epoch 29/150\n",
            "182/182 [==============================] - 0s 73us/step - loss: 0.5972 - accuracy: 0.7143\n",
            "Epoch 30/150\n",
            "182/182 [==============================] - 0s 61us/step - loss: 0.6143 - accuracy: 0.6978\n",
            "Epoch 31/150\n",
            "182/182 [==============================] - 0s 71us/step - loss: 0.5999 - accuracy: 0.6978\n",
            "Epoch 32/150\n",
            "182/182 [==============================] - 0s 73us/step - loss: 0.6072 - accuracy: 0.7033\n",
            "Epoch 33/150\n",
            "182/182 [==============================] - 0s 66us/step - loss: 0.6060 - accuracy: 0.6868\n",
            "Epoch 34/150\n",
            "182/182 [==============================] - 0s 69us/step - loss: 0.5972 - accuracy: 0.6978\n",
            "Epoch 35/150\n",
            "182/182 [==============================] - 0s 88us/step - loss: 0.5968 - accuracy: 0.6868\n",
            "Epoch 36/150\n",
            "182/182 [==============================] - 0s 103us/step - loss: 0.5955 - accuracy: 0.7198\n",
            "Epoch 37/150\n",
            "182/182 [==============================] - 0s 85us/step - loss: 0.6003 - accuracy: 0.7033\n",
            "Epoch 38/150\n",
            "182/182 [==============================] - 0s 77us/step - loss: 0.5887 - accuracy: 0.7088\n",
            "Epoch 39/150\n",
            "182/182 [==============================] - 0s 83us/step - loss: 0.5873 - accuracy: 0.7088\n",
            "Epoch 40/150\n",
            "182/182 [==============================] - 0s 78us/step - loss: 0.5884 - accuracy: 0.6978\n",
            "Epoch 41/150\n",
            "182/182 [==============================] - 0s 75us/step - loss: 0.5855 - accuracy: 0.7088\n",
            "Epoch 42/150\n",
            "182/182 [==============================] - 0s 67us/step - loss: 0.5821 - accuracy: 0.7198\n",
            "Epoch 43/150\n",
            "182/182 [==============================] - 0s 61us/step - loss: 0.5816 - accuracy: 0.7143\n",
            "Epoch 44/150\n",
            "182/182 [==============================] - 0s 63us/step - loss: 0.5781 - accuracy: 0.7253\n",
            "Epoch 45/150\n",
            "182/182 [==============================] - 0s 62us/step - loss: 0.5823 - accuracy: 0.6978\n",
            "Epoch 46/150\n",
            "182/182 [==============================] - 0s 84us/step - loss: 0.5742 - accuracy: 0.7198\n",
            "Epoch 47/150\n",
            "182/182 [==============================] - 0s 72us/step - loss: 0.5764 - accuracy: 0.7143\n",
            "Epoch 48/150\n",
            "182/182 [==============================] - 0s 87us/step - loss: 0.5885 - accuracy: 0.7088\n",
            "Epoch 49/150\n",
            "182/182 [==============================] - 0s 83us/step - loss: 0.5686 - accuracy: 0.6978\n",
            "Epoch 50/150\n",
            "182/182 [==============================] - 0s 104us/step - loss: 0.5775 - accuracy: 0.7033\n",
            "Epoch 51/150\n",
            "182/182 [==============================] - 0s 70us/step - loss: 0.5886 - accuracy: 0.7143\n",
            "Epoch 52/150\n",
            "182/182 [==============================] - 0s 75us/step - loss: 0.5714 - accuracy: 0.7308\n",
            "Epoch 53/150\n",
            "182/182 [==============================] - 0s 111us/step - loss: 0.5657 - accuracy: 0.7253\n",
            "Epoch 54/150\n",
            "182/182 [==============================] - 0s 102us/step - loss: 0.5762 - accuracy: 0.7198\n",
            "Epoch 55/150\n",
            "182/182 [==============================] - 0s 87us/step - loss: 0.5671 - accuracy: 0.7198\n",
            "Epoch 56/150\n",
            "182/182 [==============================] - 0s 91us/step - loss: 0.5597 - accuracy: 0.7253\n",
            "Epoch 57/150\n",
            "182/182 [==============================] - 0s 77us/step - loss: 0.5766 - accuracy: 0.6978\n",
            "Epoch 58/150\n",
            "182/182 [==============================] - 0s 64us/step - loss: 0.5668 - accuracy: 0.7198\n",
            "Epoch 59/150\n",
            "182/182 [==============================] - 0s 75us/step - loss: 0.5628 - accuracy: 0.7033\n",
            "Epoch 60/150\n",
            "182/182 [==============================] - 0s 66us/step - loss: 0.5585 - accuracy: 0.7363\n",
            "Epoch 61/150\n",
            "182/182 [==============================] - 0s 71us/step - loss: 0.5566 - accuracy: 0.7143\n",
            "Epoch 62/150\n",
            "182/182 [==============================] - 0s 83us/step - loss: 0.5520 - accuracy: 0.7253\n",
            "Epoch 63/150\n",
            "182/182 [==============================] - 0s 65us/step - loss: 0.5523 - accuracy: 0.7308\n",
            "Epoch 64/150\n",
            "182/182 [==============================] - 0s 72us/step - loss: 0.5522 - accuracy: 0.7308\n",
            "Epoch 65/150\n",
            "182/182 [==============================] - 0s 66us/step - loss: 0.5522 - accuracy: 0.7308\n",
            "Epoch 66/150\n",
            "182/182 [==============================] - 0s 67us/step - loss: 0.5488 - accuracy: 0.7143\n",
            "Epoch 67/150\n",
            "182/182 [==============================] - 0s 103us/step - loss: 0.5509 - accuracy: 0.7253\n",
            "Epoch 68/150\n",
            "182/182 [==============================] - 0s 69us/step - loss: 0.5429 - accuracy: 0.7308\n",
            "Epoch 69/150\n",
            "182/182 [==============================] - 0s 67us/step - loss: 0.5451 - accuracy: 0.7198\n",
            "Epoch 70/150\n",
            "182/182 [==============================] - 0s 67us/step - loss: 0.5478 - accuracy: 0.7308\n",
            "Epoch 71/150\n",
            "182/182 [==============================] - 0s 62us/step - loss: 0.5374 - accuracy: 0.7363\n",
            "Epoch 72/150\n",
            "182/182 [==============================] - 0s 97us/step - loss: 0.5546 - accuracy: 0.7033\n",
            "Epoch 73/150\n",
            "182/182 [==============================] - 0s 113us/step - loss: 0.5386 - accuracy: 0.7198\n",
            "Epoch 74/150\n",
            "182/182 [==============================] - 0s 102us/step - loss: 0.5371 - accuracy: 0.7253\n",
            "Epoch 75/150\n",
            "182/182 [==============================] - 0s 81us/step - loss: 0.5381 - accuracy: 0.7363\n",
            "Epoch 76/150\n",
            "182/182 [==============================] - 0s 87us/step - loss: 0.5447 - accuracy: 0.7198\n",
            "Epoch 77/150\n",
            "182/182 [==============================] - 0s 75us/step - loss: 0.5481 - accuracy: 0.7308\n",
            "Epoch 78/150\n",
            "182/182 [==============================] - 0s 77us/step - loss: 0.5436 - accuracy: 0.7198\n",
            "Epoch 79/150\n",
            "182/182 [==============================] - 0s 73us/step - loss: 0.5517 - accuracy: 0.7363\n",
            "Epoch 80/150\n",
            "182/182 [==============================] - 0s 78us/step - loss: 0.5394 - accuracy: 0.7253\n",
            "Epoch 81/150\n",
            "182/182 [==============================] - 0s 77us/step - loss: 0.5281 - accuracy: 0.7253\n",
            "Epoch 82/150\n",
            "182/182 [==============================] - 0s 75us/step - loss: 0.5439 - accuracy: 0.7527\n",
            "Epoch 83/150\n",
            "182/182 [==============================] - 0s 71us/step - loss: 0.5463 - accuracy: 0.7198\n",
            "Epoch 84/150\n",
            "182/182 [==============================] - 0s 77us/step - loss: 0.5531 - accuracy: 0.7198\n",
            "Epoch 85/150\n",
            "182/182 [==============================] - 0s 64us/step - loss: 0.5528 - accuracy: 0.6978\n",
            "Epoch 86/150\n",
            "182/182 [==============================] - 0s 57us/step - loss: 0.5466 - accuracy: 0.7363\n",
            "Epoch 87/150\n",
            "182/182 [==============================] - 0s 68us/step - loss: 0.5401 - accuracy: 0.7308\n",
            "Epoch 88/150\n",
            "182/182 [==============================] - 0s 84us/step - loss: 0.5200 - accuracy: 0.7637\n",
            "Epoch 89/150\n",
            "182/182 [==============================] - 0s 111us/step - loss: 0.5370 - accuracy: 0.7527\n",
            "Epoch 90/150\n",
            "182/182 [==============================] - 0s 65us/step - loss: 0.5355 - accuracy: 0.7253\n",
            "Epoch 91/150\n",
            "182/182 [==============================] - 0s 65us/step - loss: 0.5189 - accuracy: 0.7473\n",
            "Epoch 92/150\n",
            "182/182 [==============================] - 0s 96us/step - loss: 0.5171 - accuracy: 0.7418\n",
            "Epoch 93/150\n",
            "182/182 [==============================] - 0s 88us/step - loss: 0.5200 - accuracy: 0.7473\n",
            "Epoch 94/150\n",
            "182/182 [==============================] - 0s 75us/step - loss: 0.5224 - accuracy: 0.7308\n",
            "Epoch 95/150\n",
            "182/182 [==============================] - 0s 72us/step - loss: 0.5120 - accuracy: 0.7418\n",
            "Epoch 96/150\n",
            "182/182 [==============================] - 0s 67us/step - loss: 0.5157 - accuracy: 0.7473\n",
            "Epoch 97/150\n",
            "182/182 [==============================] - 0s 78us/step - loss: 0.5112 - accuracy: 0.7363\n",
            "Epoch 98/150\n",
            "182/182 [==============================] - 0s 75us/step - loss: 0.5221 - accuracy: 0.7473\n",
            "Epoch 99/150\n",
            "182/182 [==============================] - 0s 71us/step - loss: 0.5095 - accuracy: 0.7473\n",
            "Epoch 100/150\n",
            "182/182 [==============================] - 0s 69us/step - loss: 0.5152 - accuracy: 0.7582\n",
            "Epoch 101/150\n",
            "182/182 [==============================] - 0s 132us/step - loss: 0.5050 - accuracy: 0.7418\n",
            "Epoch 102/150\n",
            "182/182 [==============================] - 0s 77us/step - loss: 0.5077 - accuracy: 0.7582\n",
            "Epoch 103/150\n",
            "182/182 [==============================] - 0s 81us/step - loss: 0.5102 - accuracy: 0.7473\n",
            "Epoch 104/150\n",
            "182/182 [==============================] - 0s 70us/step - loss: 0.5037 - accuracy: 0.7418\n",
            "Epoch 105/150\n",
            "182/182 [==============================] - 0s 64us/step - loss: 0.5013 - accuracy: 0.7692\n",
            "Epoch 106/150\n",
            "182/182 [==============================] - 0s 71us/step - loss: 0.5063 - accuracy: 0.7582\n",
            "Epoch 107/150\n",
            "182/182 [==============================] - 0s 77us/step - loss: 0.5033 - accuracy: 0.7527\n",
            "Epoch 108/150\n",
            "182/182 [==============================] - 0s 74us/step - loss: 0.4994 - accuracy: 0.7473\n",
            "Epoch 109/150\n",
            "182/182 [==============================] - 0s 77us/step - loss: 0.5096 - accuracy: 0.7582\n",
            "Epoch 110/150\n",
            "182/182 [==============================] - 0s 81us/step - loss: 0.5001 - accuracy: 0.7527\n",
            "Epoch 111/150\n",
            "182/182 [==============================] - 0s 61us/step - loss: 0.5080 - accuracy: 0.7637\n",
            "Epoch 112/150\n",
            "182/182 [==============================] - 0s 66us/step - loss: 0.5053 - accuracy: 0.7527\n",
            "Epoch 113/150\n",
            "182/182 [==============================] - 0s 71us/step - loss: 0.5000 - accuracy: 0.7527\n",
            "Epoch 114/150\n",
            "182/182 [==============================] - 0s 120us/step - loss: 0.5023 - accuracy: 0.7527\n",
            "Epoch 115/150\n",
            "182/182 [==============================] - 0s 103us/step - loss: 0.5120 - accuracy: 0.7637\n",
            "Epoch 116/150\n",
            "182/182 [==============================] - 0s 88us/step - loss: 0.4887 - accuracy: 0.7473\n",
            "Epoch 117/150\n",
            "182/182 [==============================] - 0s 81us/step - loss: 0.4940 - accuracy: 0.7582\n",
            "Epoch 118/150\n",
            "182/182 [==============================] - 0s 98us/step - loss: 0.4962 - accuracy: 0.7418\n",
            "Epoch 119/150\n",
            "182/182 [==============================] - 0s 76us/step - loss: 0.4937 - accuracy: 0.7637\n",
            "Epoch 120/150\n",
            "182/182 [==============================] - 0s 116us/step - loss: 0.4856 - accuracy: 0.7527\n",
            "Epoch 121/150\n",
            "182/182 [==============================] - 0s 81us/step - loss: 0.4959 - accuracy: 0.7582\n",
            "Epoch 122/150\n",
            "182/182 [==============================] - 0s 65us/step - loss: 0.4866 - accuracy: 0.7527\n",
            "Epoch 123/150\n",
            "182/182 [==============================] - 0s 68us/step - loss: 0.4934 - accuracy: 0.7637\n",
            "Epoch 124/150\n",
            "182/182 [==============================] - 0s 70us/step - loss: 0.4839 - accuracy: 0.7527\n",
            "Epoch 125/150\n",
            "182/182 [==============================] - 0s 72us/step - loss: 0.4933 - accuracy: 0.7637\n",
            "Epoch 126/150\n",
            "182/182 [==============================] - 0s 79us/step - loss: 0.5474 - accuracy: 0.7253\n",
            "Epoch 127/150\n",
            "182/182 [==============================] - 0s 65us/step - loss: 0.5253 - accuracy: 0.7418\n",
            "Epoch 128/150\n",
            "182/182 [==============================] - 0s 63us/step - loss: 0.4984 - accuracy: 0.7308\n",
            "Epoch 129/150\n",
            "182/182 [==============================] - 0s 70us/step - loss: 0.4880 - accuracy: 0.7747\n",
            "Epoch 130/150\n",
            "182/182 [==============================] - 0s 75us/step - loss: 0.5131 - accuracy: 0.7527\n",
            "Epoch 131/150\n",
            "182/182 [==============================] - 0s 117us/step - loss: 0.4933 - accuracy: 0.7527\n",
            "Epoch 132/150\n",
            "182/182 [==============================] - 0s 69us/step - loss: 0.4881 - accuracy: 0.7637\n",
            "Epoch 133/150\n",
            "182/182 [==============================] - 0s 72us/step - loss: 0.4749 - accuracy: 0.7527\n",
            "Epoch 134/150\n",
            "182/182 [==============================] - 0s 90us/step - loss: 0.4768 - accuracy: 0.7527\n",
            "Epoch 135/150\n",
            "182/182 [==============================] - 0s 90us/step - loss: 0.4831 - accuracy: 0.7802\n",
            "Epoch 136/150\n",
            "182/182 [==============================] - 0s 81us/step - loss: 0.4732 - accuracy: 0.7473\n",
            "Epoch 137/150\n",
            "182/182 [==============================] - 0s 69us/step - loss: 0.4744 - accuracy: 0.7692\n",
            "Epoch 138/150\n",
            "182/182 [==============================] - 0s 67us/step - loss: 0.4699 - accuracy: 0.7637\n",
            "Epoch 139/150\n",
            "182/182 [==============================] - 0s 68us/step - loss: 0.4750 - accuracy: 0.7747\n",
            "Epoch 140/150\n",
            "182/182 [==============================] - 0s 72us/step - loss: 0.4903 - accuracy: 0.7637\n",
            "Epoch 141/150\n",
            "182/182 [==============================] - 0s 88us/step - loss: 0.4992 - accuracy: 0.7527\n",
            "Epoch 142/150\n",
            "182/182 [==============================] - 0s 103us/step - loss: 0.5009 - accuracy: 0.7527\n",
            "Epoch 143/150\n",
            "182/182 [==============================] - 0s 82us/step - loss: 0.4761 - accuracy: 0.7802\n",
            "Epoch 144/150\n",
            "182/182 [==============================] - 0s 60us/step - loss: 0.4785 - accuracy: 0.7802\n",
            "Epoch 145/150\n",
            "182/182 [==============================] - 0s 65us/step - loss: 0.4775 - accuracy: 0.7802\n",
            "Epoch 146/150\n",
            "182/182 [==============================] - 0s 64us/step - loss: 0.4686 - accuracy: 0.7473\n",
            "Epoch 147/150\n",
            "182/182 [==============================] - 0s 74us/step - loss: 0.4668 - accuracy: 0.7857\n",
            "Epoch 148/150\n",
            "182/182 [==============================] - 0s 72us/step - loss: 0.4692 - accuracy: 0.7802\n",
            "Epoch 149/150\n",
            "182/182 [==============================] - 0s 78us/step - loss: 0.4787 - accuracy: 0.7692\n",
            "Epoch 150/150\n",
            "182/182 [==============================] - 0s 71us/step - loss: 0.4629 - accuracy: 0.7692\n"
          ],
          "name": "stdout"
        },
        {
          "output_type": "execute_result",
          "data": {
            "text/plain": [
              "<keras.callbacks.callbacks.History at 0x7f9267998828>"
            ]
          },
          "metadata": {
            "tags": []
          },
          "execution_count": 13
        }
      ]
    },
    {
      "cell_type": "code",
      "metadata": {
        "id": "0Ul4KwfyfCuC"
      },
      "source": [
        "y_pred = model.predict(X_test)"
      ],
      "execution_count": null,
      "outputs": []
    },
    {
      "cell_type": "code",
      "metadata": {
        "id": "PEp8cKIUlWo6"
      },
      "source": [
        "y_pred = (y_pred > 0.5)"
      ],
      "execution_count": null,
      "outputs": []
    },
    {
      "cell_type": "code",
      "metadata": {
        "id": "xQjO9-K4ln5k",
        "colab": {
          "base_uri": "https://localhost:8080/",
          "height": 34
        },
        "outputId": "ffc64282-7de2-4d02-8162-567d800feaf9"
      },
      "source": [
        "print(\"Accuracy:\",metrics.accuracy_score(y_test, y_pred))"
      ],
      "execution_count": null,
      "outputs": [
        {
          "output_type": "stream",
          "text": [
            "Accuracy: 0.8260869565217391\n"
          ],
          "name": "stdout"
        }
      ]
    },
    {
      "cell_type": "code",
      "metadata": {
        "id": "OJVAgcGjl8Wl",
        "colab": {
          "base_uri": "https://localhost:8080/",
          "height": 170
        },
        "outputId": "b2a80907-f64c-4363-ac7e-8bd8b5518b47"
      },
      "source": [
        "from sklearn.metrics import classification_report, confusion_matrix\n",
        "confusion_matrix(y_test, y_pred)\n",
        "print(classification_report(y_test, y_pred))"
      ],
      "execution_count": null,
      "outputs": [
        {
          "output_type": "stream",
          "text": [
            "              precision    recall  f1-score   support\n",
            "\n",
            "           0       0.75      0.83      0.79        18\n",
            "           1       0.88      0.82      0.85        28\n",
            "\n",
            "    accuracy                           0.83        46\n",
            "   macro avg       0.82      0.83      0.82        46\n",
            "weighted avg       0.83      0.83      0.83        46\n",
            "\n"
          ],
          "name": "stdout"
        }
      ]
    },
    {
      "cell_type": "code",
      "metadata": {
        "id": "2cyQmnsKmIK0",
        "colab": {
          "base_uri": "https://localhost:8080/",
          "height": 51
        },
        "outputId": "15dc16d1-388e-4399-caf7-4e1b13bb024a"
      },
      "source": [
        "confusion_matrix(y_test,y_pred)"
      ],
      "execution_count": null,
      "outputs": [
        {
          "output_type": "execute_result",
          "data": {
            "text/plain": [
              "array([[15,  3],\n",
              "       [ 5, 23]])"
            ]
          },
          "metadata": {
            "tags": []
          },
          "execution_count": 18
        }
      ]
    },
    {
      "cell_type": "code",
      "metadata": {
        "id": "RCKev8zIrvgV",
        "colab": {
          "base_uri": "https://localhost:8080/",
          "height": 34
        },
        "outputId": "3f70fd3d-b9c1-423c-aaff-aed8ec0698ac"
      },
      "source": [
        "history_dict = history.history\n",
        "print(history_dict.keys())"
      ],
      "execution_count": null,
      "outputs": [
        {
          "output_type": "stream",
          "text": [
            "dict_keys(['loss', 'accuracy'])\n"
          ],
          "name": "stdout"
        }
      ]
    },
    {
      "cell_type": "code",
      "metadata": {
        "id": "qTOVkTeamshQ",
        "colab": {
          "base_uri": "https://localhost:8080/",
          "height": 295
        },
        "outputId": "142399b6-88f1-4557-d096-abec27db9cbc"
      },
      "source": [
        "import matplotlib.pyplot as plt\n",
        "plt.plot(history.history['accuracy'])\n",
        "#plt.plot(history.history['loss'])\n",
        "plt.title('Model Accuracy')\n",
        "plt.ylabel('Accuracy')\n",
        "plt.xlabel('Epoch')\n",
        "plt.legend(['Train'])\n",
        "plt.show()"
      ],
      "execution_count": null,
      "outputs": [
        {
          "output_type": "display_data",
          "data": {
            "image/png": "[encoded data removed]",
            "text/plain": [
              "<Figure size 432x288 with 1 Axes>"
            ]
          },
          "metadata": {
            "tags": [],
            "needs_background": "light"
          }
        }
      ]
    }
  ]
}